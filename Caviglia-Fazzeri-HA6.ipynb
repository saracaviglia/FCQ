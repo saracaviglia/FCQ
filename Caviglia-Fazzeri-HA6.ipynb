{
 "cells": [
  {
   "cell_type": "markdown",
   "metadata": {},
   "source": [
    "**FONDAMENTI DI COMPUTAZIONE QUANTISTICA - A.A. 2023/2024**: Home Assignment 6<br>\n",
    "Caviglia Sara 5163676<br>\n",
    "Fazzeri Matteo 5156526<br>"
   ]
  },
  {
   "cell_type": "markdown",
   "metadata": {},
   "source": [
    "# **Algoritmo di Simon**\n"
   ]
  },
  {
   "cell_type": "markdown",
   "metadata": {},
   "source": [
    "### **Introduzione**\n",
    "L'Algortimo di Simon permette uno **speed-up esponenziale** rispetto agli analoghi classici. Supponiamo di avere un **oracolo o Black Box** che calcola una funzione, la quale prende in input una string a n bit e da come output una stringa a n bit. Per ogni x esiste un solo valore di y tale che $f(x) = f(y)$, ovvero tale che $y = x \\oplus a$, dove a è la periodicità della funzione che sto cercando.\n",
    "Il problema è classicamente difficile da risolvere, in quanto non esiste un algoritmo efficiente: l'unica possibilità è dare in input all'oracolo una serie di stringhe fino a che non vengono trovati i valori di $x$ e $y$ tali che $f(x) = f(y)$. Una volta trovate tali stringhe è facile calcolare il periodo come $a = x \\oplus y$.\n",
    "Poiché l'unico modo per risolvere il problema è provare i diversi input, bisogna sondare tutto lo spazio logico, composto da $2^n$ stringhe. Possiamo dimostrare che in media sono necessari $2^{n/2}$ tentativi e chiamate all'oracolo. La complessità, dunque, cresce esponenzialmente con il numero di bit $n$."
   ]
  },
  {
   "cell_type": "markdown",
   "metadata": {},
   "source": [
    "### **Descrizione dell'algoritmo quantistico**\n",
    "Possiamo definire il nostro algoritmo come una sequenza di passi.\n",
    "1. Partiamo da $n$ bit logici e $n$ qubit addizionali.<br>\n",
    "$|\\psi _0\\rang = |0\\rang ^{\\oplus n} |0\\rang ^{\\oplus n}$\n",
    "1. Applichiamo $N = 2^n$ porte di Hadamard ai primi $n$ qubit.<br>\n",
    "$|\\psi _1\\rang = \\frac{1}{\\sqrt{N}}\t\\displaystyle\\sum_{x=0}^{N-1} |x\\rang |0\\rang ^{\\oplus n}$\n",
    "1. Applichiamo l'oracolo che per ogni $|x\\rang $ calcola $f(x)$ e immagazzina il suo valore negli $n$ bit finali.<br>\n",
    "$|\\psi _1\\rang \\xrightarrow{O} |\\psi _2\\rang = \\frac{1}{\\sqrt{N}}\t\\displaystyle\\sum_{x=0}^{N-1} |x\\rang |f(x)\\rang $<br>\n",
    "Lo stato $|f(x)\\rang$ sarà associato sia allo stato $|x\\rang $ sia allo stato $|x \\oplus a\\rang $, quindi possiamo riscrivere la formula come<br>\n",
    "$|\\psi _2\\rang = \\frac{1}{\\sqrt{N/2}}\t\\displaystyle\\sum_{x=0}^{N-1} \\frac{|x\\rang + |x \\oplus a\\rang}{\\sqrt{2}} |f(x)\\rang $.<br>\n",
    "1. Misurando gli ultimi $n$ qubit, otterremo una stringa casuale $f(x_0)$ con probabilità $1/2^{n-1} = 2/N$. Ci interessa che i primi $n$ qubit, dopo la misura, si troveranno nello stato sovrapposizione<br>\n",
    "$|\\psi _3\\rang = \\frac{|x\\rang + |x \\oplus a\\rang}{\\sqrt{2}}$.<br>\n",
    "1. Se applichiamo $n$ porte di Hadamard, otteniamo<br>\n",
    "$|\\psi _3\\rang \\xrightarrow{H^{\\oplus n}} |\\psi _4\\rang = \\frac{1}{\\sqrt{2N}}\\displaystyle\\sum_{y=0}^{N-1} \\lbrack (-1)^{x_0 \\cdot y} + (-1)^{(x_0 \\oplus a) \\cdot y}\\rbrack |y\\rang = \\frac{1}{\\sqrt{2N}}\\displaystyle\\sum_{y=0}^{N-1} \\lbrack (-1)^{x_0 \\cdot y} + (-1)^{x_0 \\cdot y + a \\cdot y}\\rbrack |y\\rang = \\frac{1}{\\sqrt{2N}}\\displaystyle\\sum_{y=0}^{N-1} (-1)^{x_0 \\cdot y} \\lbrack 1+(-1)^{a\\cdot y} \\rbrack |y\\rang $. <br>\n",
    "Per le stringhe $y$ per cui $a\\cdot y =1$, il coefficiente dello stato $|y\\rang$ è $[1-1]=0$. Al contrario, se $a\\cdot y =0$, il coefficiente dello stato $|y\\rang$ è $[1+1]=1$. Nella somma precedente, quindi, sono presenti solo gli stati $|y\\rang$ tali che $a \\cdot y=0$, quindi la possiamo riscrivere come<br>\n",
    "$|\\psi _4\\rang =\\frac{1}{\\sqrt{2N}}\\displaystyle\\sum_{a\\cdot y=0} (-1)^{x_0 \\cdot y} \\lbrack 1+(-1)^{a\\cdot y} \\rbrack |y\\rang $. <br>\n",
    "1. La misura dei rimanenti $n$ qubit darà una stringa $y$ tale che $a \\cdot y =0$. Dobbiamo dunque iterare la procedura per ottenere diversi valori ($a\\cdot y_i = 0$ per $i = 1, ..., n$). Otteniamo, quindi, un sistema di equazioni.<br>\n",
    "$\n",
    "\\begin{equation}\n",
    "\\left\\{\n",
    "\\begin{aligned}\n",
    "a\\cdot y_1 =0 \\\\\n",
    "a\\cdot y_2 =0 \\\\\n",
    ". \\\\\n",
    ". \\\\\n",
    ". \\\\\n",
    "a\\cdot y_n =0 \n",
    "\\end{aligned}\n",
    "\\right.\n",
    "\\end{equation}\n",
    "$\n",
    "Se le equazioni sono linearmente indipendenti, esiste una sola stringa $a$ che le soddisfa tutte.\n",
    "\n",
    "Si può dimostrare che bastano solo $O(n)$ iterazioni del protocollo per ottenere $n$ equazioni linearmente indipendenti e determinare $a$, garantendo uno speed-up esponenziale rispetto ad un algoritmo classico."
   ]
  },
  {
   "cell_type": "markdown",
   "metadata": {},
   "source": [
    "### **Implementazione in Qiskit**\n",
    "Iniziamo l'implementazione dell'algoritmo con l'importazione delle librerie che ci permettono di creare il nostro ambiente virtuale in cui lavorare."
   ]
  },
  {
   "cell_type": "code",
   "execution_count": 1,
   "metadata": {},
   "outputs": [],
   "source": [
    "import dotenv\n",
    "import os\n",
    "\n",
    "# Load the .env file\n",
    "dotenv.load_dotenv()\n",
    "\n",
    "from qiskit_ibm_runtime import QiskitRuntimeService, Sampler\n",
    " \n",
    "# Save an IBM Quantum account and set it as your default account.\n",
    "QiskitRuntimeService.save_account(\n",
    "    channel=\"ibm_quantum\",\n",
    "    token=os.environ.get(\"IBM_API_TOKEN\"),\n",
    "    set_as_default=True,\n",
    "    # Use `overwrite=True` if you're updating your token.\n",
    "    overwrite=True,\n",
    ")\n",
    " \n",
    "# Load saved credentials\n",
    "service = QiskitRuntimeService()"
   ]
  },
  {
   "cell_type": "code",
   "execution_count": 2,
   "metadata": {},
   "outputs": [],
   "source": [
    "# importing Qiskit\n",
    "from qiskit_aer import AerSimulator, Aer\n",
    "# from qiskit.providers.ibmq import least_busy\n",
    "from qiskit import QuantumCircuit, transpile\n",
    "\n",
    "# import basic plot tools\n",
    "from qiskit.visualization import plot_histogram\n",
    "from qiskit_textbook.tools import simon_oracle"
   ]
  },
  {
   "cell_type": "markdown",
   "metadata": {},
   "source": [
    "Adesso possiamo scrivere il nostro algoritmo vero e proprio. Come oracolo abbiamo utilizzato quello presente nella libreria <code>qiskit_textbook.tools</code>."
   ]
  },
  {
   "cell_type": "code",
   "execution_count": 3,
   "metadata": {},
   "outputs": [
    {
     "data": {
      "text/html": [
       "<pre style=\"word-wrap: normal;white-space: pre;background: #fff0;line-height: 1.1;font-family: &quot;Courier New&quot;,Courier,monospace\">     ┌───┐ ░                           ░ ┌───┐┌─┐      \n",
       "q_0: ┤ H ├─░───■───────────────────────░─┤ H ├┤M├──────\n",
       "     ├───┤ ░   │                       ░ ├───┤└╥┘┌─┐   \n",
       "q_1: ┤ H ├─░───┼────■─────────■────■───░─┤ H ├─╫─┤M├───\n",
       "     ├───┤ ░   │    │         │    │   ░ ├───┤ ║ └╥┘┌─┐\n",
       "q_2: ┤ H ├─░───┼────┼────■────┼────┼───░─┤ H ├─╫──╫─┤M├\n",
       "     └───┘ ░ ┌─┴─┐  │    │    │    │   ░ └───┘ ║  ║ └╥┘\n",
       "q_3: ──────░─┤ X ├──┼────┼────┼────┼───░───────╫──╫──╫─\n",
       "           ░ └───┘┌─┴─┐  │  ┌─┴─┐  │   ░       ║  ║  ║ \n",
       "q_4: ──────░──────┤ X ├──┼──┤ X ├──┼───░───────╫──╫──╫─\n",
       "           ░      └───┘┌─┴─┐└───┘┌─┴─┐ ░       ║  ║  ║ \n",
       "q_5: ──────░───────────┤ X ├─────┤ X ├─░───────╫──╫──╫─\n",
       "           ░           └───┘     └───┘ ░       ║  ║  ║ \n",
       "c: 3/══════════════════════════════════════════╩══╩══╩═\n",
       "                                               0  1  2 </pre>"
      ],
      "text/plain": [
       "     ┌───┐ ░                           ░ ┌───┐┌─┐      \n",
       "q_0: ┤ H ├─░───■───────────────────────░─┤ H ├┤M├──────\n",
       "     ├───┤ ░   │                       ░ ├───┤└╥┘┌─┐   \n",
       "q_1: ┤ H ├─░───┼────■─────────■────■───░─┤ H ├─╫─┤M├───\n",
       "     ├───┤ ░   │    │         │    │   ░ ├───┤ ║ └╥┘┌─┐\n",
       "q_2: ┤ H ├─░───┼────┼────■────┼────┼───░─┤ H ├─╫──╫─┤M├\n",
       "     └───┘ ░ ┌─┴─┐  │    │    │    │   ░ └───┘ ║  ║ └╥┘\n",
       "q_3: ──────░─┤ X ├──┼────┼────┼────┼───░───────╫──╫──╫─\n",
       "           ░ └───┘┌─┴─┐  │  ┌─┴─┐  │   ░       ║  ║  ║ \n",
       "q_4: ──────░──────┤ X ├──┼──┤ X ├──┼───░───────╫──╫──╫─\n",
       "           ░      └───┘┌─┴─┐└───┘┌─┴─┐ ░       ║  ║  ║ \n",
       "q_5: ──────░───────────┤ X ├─────┤ X ├─░───────╫──╫──╫─\n",
       "           ░           └───┘     └───┘ ░       ║  ║  ║ \n",
       "c: 3/══════════════════════════════════════════╩══╩══╩═\n",
       "                                               0  1  2 "
      ]
     },
     "execution_count": 3,
     "metadata": {},
     "output_type": "execute_result"
    }
   ],
   "source": [
    "bitstring = '110' # input ('insert string b: ')\n",
    "n = len(bitstring) # length of the string b\n",
    "simon_circuito = QuantumCircuit(n*2, n)\n",
    "\n",
    "# Apply Hadamard gates before querying the oracle\n",
    "simon_circuito.h(range(n))\n",
    "simon_circuito.barrier() # We use barriers to improve our visualization of the circuit\n",
    "\n",
    "simon_circuito = simon_circuito.compose(simon_oracle(bitstring))\n",
    "simon_circuito.barrier()\n",
    "simon_circuito.h(range(n))\n",
    "simon_circuito.measure(range(n), range(n))\n",
    "simon_circuito.draw()\n"
   ]
  },
  {
   "cell_type": "markdown",
   "metadata": {},
   "source": [
    "### **Test con il simulatore**"
   ]
  },
  {
   "cell_type": "markdown",
   "metadata": {},
   "source": [
    "Effettuiamo un primo test con un simulatore e disegniamo un istogramma con le probabilità di collasso in ogni stato."
   ]
  },
  {
   "cell_type": "code",
   "execution_count": 4,
   "metadata": {},
   "outputs": [
    {
     "data": {
      "image/png": "[encoded data removed]",
      "text/plain": [
       "<Figure size 640x480 with 1 Axes>"
      ]
     },
     "execution_count": 4,
     "metadata": {},
     "output_type": "execute_result"
    }
   ],
   "source": [
    "# Assume simon_circuit is already defined\n",
    "aer_sim = AerSimulator() # Aer.get_backend('aer_simulator')\n",
    "#aer_sim.set_options(precision='single')\n",
    "\n",
    "#results = aer_sim.run(simon_circuito).result()\n",
    "\n",
    "simon_circuito = transpile(simon_circuito, aer_sim)\n",
    "\n",
    "results = aer_sim.run(simon_circuito).result()\n",
    "\n",
    "# Get the counts\n",
    "counts = results.get_counts()\n",
    "\n",
    "# Normalize counts to probabilities\n",
    "total_shots = sum(counts.values())\n",
    "probabilities = {key: value / total_shots for key, value in counts.items()}\n",
    "\n",
    "# Plot the histogram of probabilities\n",
    "plot_histogram(probabilities)\n"
   ]
  },
  {
   "cell_type": "markdown",
   "metadata": {},
   "source": [
    "Possiamo verificare i nostri risultati."
   ]
  },
  {
   "cell_type": "code",
   "execution_count": 5,
   "metadata": {},
   "outputs": [
    {
     "name": "stdout",
     "output_type": "stream",
     "text": [
      "110.111 = 0 (mod 2)\n",
      "110.110 = 0 (mod 2)\n",
      "110.000 = 0 (mod 2)\n",
      "110.001 = 0 (mod 2)\n"
     ]
    }
   ],
   "source": [
    "def bdotz(b, z):\n",
    "    accum = 0\n",
    "    for i in range(len(b)):\n",
    "        accum += int(b[i]) * int(z[i])\n",
    "    return (accum % 2)\n",
    "\n",
    "for z in counts:\n",
    "    print( '{}.{} = {} (mod 2)'.format(bitstring, z, bdotz(bitstring,z)) )"
   ]
  },
  {
   "cell_type": "markdown",
   "metadata": {},
   "source": [
    "La verifica finale sarebbe la risoluzione del sistema lineare ottenuto."
   ]
  }
 ],
 "metadata": {
  "kernelspec": {
   "display_name": "simonAlg",
   "language": "python",
   "name": "python3"
  },
  "language_info": {
   "codemirror_mode": {
    "name": "ipython",
    "version": 3
   },
   "file_extension": ".py",
   "mimetype": "text/x-python",
   "name": "python",
   "nbconvert_exporter": "python",
   "pygments_lexer": "ipython3",
   "version": "3.12.4"
  }
 },
 "nbformat": 4,
 "nbformat_minor": 2
}
